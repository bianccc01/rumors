{
 "cells": [
  {
   "metadata": {},
   "cell_type": "markdown",
   "source": [
    "# Data Preprocessing\n",
    "get the user item matrix from the raw data"
   ],
   "id": "38fdde4b03cbbeae"
  },
  {
   "metadata": {
    "collapsed": true,
    "ExecuteTime": {
     "end_time": "2024-10-27T15:48:55.772311Z",
     "start_time": "2024-10-27T15:48:52.623756Z"
    }
   },
   "cell_type": "code",
   "source": [
    "import pandas as pd\n",
    "\n",
    "df_rating = pd.read_csv('datasets/ratings.csv')\n",
    "df_item = pd.read_csv('datasets/movies.csv')\n",
    "\n",
    "df_user_item = df_rating.pivot(index='userId', columns='movieId', values='rating')\n",
    "df_user_item = df_user_item.fillna(0)\n",
    "\n",
    "df_user_item.to_csv('datasets/user_item.csv')"
   ],
   "id": "initial_id",
   "outputs": [],
   "execution_count": 2
  },
  {
   "metadata": {
    "ExecuteTime": {
     "end_time": "2024-10-28T08:15:56.544184Z",
     "start_time": "2024-10-28T08:15:54.958249Z"
    }
   },
   "cell_type": "code",
   "source": [
    "import pandas as pd\n",
    "\n",
    "# Leggi il file CSV\n",
    "df_links = pd.read_csv('datasets/links.csv')\n",
    "\n",
    "# Controlla i valori nella colonna imdbId\n",
    "print(df_links['imdbId'].unique())\n",
    "\n",
    "# Rimuovi gli zeri iniziali solo per i valori validi\n",
    "df_links['imdbId'] = df_links['imdbId'].apply(lambda x: str(x).lstrip('0') if pd.notnull(x) else x)\n",
    "\n",
    "# Salva il DataFrame pulito nel file CSV\n",
    "df_links.to_csv('datasets/links.csv', index=False)\n"
   ],
   "id": "fc9e544f6cb2a58a",
   "outputs": [
    {
     "name": "stdout",
     "output_type": "stream",
     "text": [
      "[ 114709  113497  113228 ... 6397426 8391976  101726]\n"
     ]
    }
   ],
   "execution_count": 2
  },
  {
   "metadata": {
    "ExecuteTime": {
     "end_time": "2024-10-28T08:20:18.855547Z",
     "start_time": "2024-10-28T08:20:06.682513Z"
    }
   },
   "cell_type": "code",
   "source": [
    "import pandas as pd\n",
    "\n",
    "# Load data from CSV files\n",
    "df_links = pd.read_csv('datasets/links.csv')\n",
    "df_movies_links = pd.read_csv('datasets/movies_links.csv')\n",
    "\n",
    "# Extract unique imdbId and tmdbId from both DataFrames\n",
    "imdbId_links = df_links['imdbId'].unique()\n",
    "imdbId_movies_links = df_movies_links['imdbId'].unique()\n",
    "\n",
    "# Check if all imdbId in df_links are present in df_movies_links\n",
    "missing_imdb_ids = [x for x in imdbId_links if x not in imdbId_movies_links]\n",
    "all_present = len(missing_imdb_ids) == 0\n",
    "\n",
    "# Check if each imdbId in df_movies_links appears only once in df_links\n",
    "unique_in_movies_links = df_movies_links['imdbId'].value_counts() == 1\n",
    "all_unique = all(unique_in_movies_links)\n",
    "\n",
    "# Check tmdbId correspondence\n",
    "tmdb_mismatch = []\n",
    "for i, row in df_links.iterrows():\n",
    "    imdb_id = row['imdbId']\n",
    "    tmdb_id_link = row['tmdbId']\n",
    "    \n",
    "    # Find matching row in df_movies_links based on imdbId\n",
    "    matched_row = df_movies_links[df_movies_links['imdbId'] == imdb_id]\n",
    "    if not matched_row.empty:\n",
    "        tmdb_id_movies = matched_row['tmdbId'].iloc[0]\n",
    "        \n",
    "        # Check if both tmdbIds are null or they match\n",
    "        if (pd.isna(tmdb_id_link) and pd.isna(tmdb_id_movies)) or (tmdb_id_link == tmdb_id_movies):\n",
    "            continue\n",
    "        else:\n",
    "            tmdb_mismatch.append(imdb_id)\n",
    "\n",
    "# Final result\n",
    "if all_present and all_unique and not tmdb_mismatch:\n",
    "    print(\"All imdbId from df_links are present exactly once in df_movies_links, with matching tmdbId values.\")\n",
    "else:\n",
    "    if missing_imdb_ids:\n",
    "        print(\"The following imdbIds from df_links are missing in df_movies_links:\", missing_imdb_ids)\n",
    "    if not all_unique:\n",
    "        print(\"Some imdbIds in df_movies_links are not unique.\")\n",
    "    if tmdb_mismatch:\n",
    "        print(\"The following imdbIds have mismatching tmdbId values:\", tmdb_mismatch)\n"
   ],
   "id": "3d8dda076c41a158",
   "outputs": [
    {
     "name": "stdout",
     "output_type": "stream",
     "text": [
      "All imdbId from df_links are present exactly once in df_movies_links, with matching tmdbId values.\n"
     ]
    }
   ],
   "execution_count": 7
  },
  {
   "metadata": {
    "ExecuteTime": {
     "end_time": "2024-10-28T08:16:05.532743Z",
     "start_time": "2024-10-28T08:16:05.375666Z"
    }
   },
   "cell_type": "code",
   "source": [
    "# cast tmdbId to int in links.csv and movies_links.csv\n",
    "df_links['tmdbId'] = df_links['tmdbId'].astype('Int64')\n",
    "\n",
    "df_movies_links['tmdbId'] = df_movies_links['tmdbId'].astype('Int64')\n",
    "\n",
    "# Save the cleaned DataFrames to CSV files\n",
    "df_links.to_csv('datasets/links.csv', index=False)\n",
    "df_movies_links.to_csv('datasets/movies_links.csv', index=False)\n"
   ],
   "id": "5b93a50b3ade68f7",
   "outputs": [],
   "execution_count": 4
  },
  {
   "metadata": {
    "ExecuteTime": {
     "end_time": "2024-10-28T11:38:16.613408Z",
     "start_time": "2024-10-28T11:38:16.220931Z"
    }
   },
   "cell_type": "code",
   "source": [
    "#add movieID present in links.csv to movie_details.csv and rename the column to movieLensId\n",
    "#join the two dataframes on imdb_id (on movie_details.csv) and imdbId (on links.csv)\n",
    "\n",
    "import pandas as pd\n",
    "\n",
    "# Load data from CSV files\n",
    "df_movie_details = pd.read_csv('datasets/movie_details.csv')\n",
    "df_links = pd.read_csv('datasets/links.csv')\n",
    "\n",
    "#remove the NaN values in imdb_id\n",
    "df_movie_details = df_movie_details.dropna(subset=['imdb_id'])\n",
    "\n",
    "#convert imdbId to int\n",
    "df_links['imdbId'] = df_links['imdbId'].astype(int)\n",
    "df_movie_details['imdb_id'] = df_movie_details['imdb_id'].str.extract('(\\d+)').astype(int)\n",
    "\n",
    "# Rename the column to movieLensId\n",
    "df_links = df_links.rename(columns={'movieId': 'movieLensId'})\n",
    "\n",
    "# Join the two DataFrames on imdb_id and imdbId\n",
    "df_movie_details = df_movie_details.merge(df_links, how='inner', left_on='imdb_id', right_on='imdbId')\n",
    "\n",
    "#remove the columns imdb_id in movie_details.csv\n",
    "df_movie_details = df_movie_details.drop(columns=['imdb_id'])\n",
    "\n",
    "#remove the id column\n",
    "df_movie_details = df_movie_details.drop(columns=['id'])\n",
    "\n",
    "#convert tmdbId to int\n",
    "df_movie_details['tmdbId'] = df_movie_details['tmdbId'].astype(int)\n",
    "\n",
    "# Save the cleaned DataFrame to a CSV file\n",
    "df_movie_details.to_csv('datasets/movie_details.csv', index=False)\n",
    "\n",
    "\n",
    "\n",
    "\n"
   ],
   "id": "350f26235d7662fe",
   "outputs": [],
   "execution_count": 23
  }
 ],
 "metadata": {
  "kernelspec": {
   "display_name": "Python 3",
   "language": "python",
   "name": "python3"
  },
  "language_info": {
   "codemirror_mode": {
    "name": "ipython",
    "version": 2
   },
   "file_extension": ".py",
   "mimetype": "text/x-python",
   "name": "python",
   "nbconvert_exporter": "python",
   "pygments_lexer": "ipython2",
   "version": "2.7.6"
  }
 },
 "nbformat": 4,
 "nbformat_minor": 5
}
