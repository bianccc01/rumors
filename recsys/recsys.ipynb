{
 "cells": [
  {
   "cell_type": "code",
   "id": "initial_id",
   "metadata": {
    "collapsed": true,
    "ExecuteTime": {
     "end_time": "2024-10-29T10:43:14.809265Z",
     "start_time": "2024-10-29T10:43:14.772830Z"
    }
   },
   "source": [
    "# Importa le librerie necessarie\n",
    "import pandas as pd\n",
    "from surprise import SVD, Dataset, Reader\n",
    "from surprise.model_selection import train_test_split\n",
    "import pickle\n",
    "\n",
    "\n",
    "df = pd.read_csv('datasets/ratings.csv')"
   ],
   "outputs": [],
   "execution_count": 25
  },
  {
   "metadata": {},
   "cell_type": "markdown",
   "source": "",
   "id": "73b09689563b10f6"
  },
  {
   "metadata": {
    "ExecuteTime": {
     "end_time": "2024-10-29T10:43:14.886431Z",
     "start_time": "2024-10-29T10:43:14.818565Z"
    }
   },
   "cell_type": "code",
   "source": [
    "# Crea il Reader per Surprise con la scala minima e massima dei rating\n",
    "reader = Reader(rating_scale=(df['rating'].min(), df['rating'].max()))\n",
    "\n",
    "# Carica i dati nel formato Surprise\n",
    "data = Dataset.load_from_df(df[['userId', 'movieId', 'rating']], reader)\n"
   ],
   "id": "18d59a1fd438f6e6",
   "outputs": [],
   "execution_count": 26
  },
  {
   "metadata": {},
   "cell_type": "markdown",
   "source": "",
   "id": "472b91eb5387b34e"
  },
  {
   "metadata": {
    "ExecuteTime": {
     "end_time": "2024-10-29T10:43:16.376937Z",
     "start_time": "2024-10-29T10:43:14.897530Z"
    }
   },
   "cell_type": "code",
   "source": [
    "# Dividi il dataset in training e test\n",
    "trainset, testset = train_test_split(data, test_size=0.25)\n",
    "\n",
    "# Inizializza e allena il modello SVD\n",
    "model = SVD(random_state=42, n_factors=50, n_epochs=50, verbose=True).fit(trainset)\n"
   ],
   "id": "81ca43e722e9c6e",
   "outputs": [
    {
     "name": "stdout",
     "output_type": "stream",
     "text": [
      "Processing epoch 0\n",
      "Processing epoch 1\n",
      "Processing epoch 2\n",
      "Processing epoch 3\n",
      "Processing epoch 4\n",
      "Processing epoch 5\n",
      "Processing epoch 6\n",
      "Processing epoch 7\n",
      "Processing epoch 8\n",
      "Processing epoch 9\n",
      "Processing epoch 10\n",
      "Processing epoch 11\n",
      "Processing epoch 12\n",
      "Processing epoch 13\n",
      "Processing epoch 14\n",
      "Processing epoch 15\n",
      "Processing epoch 16\n",
      "Processing epoch 17\n",
      "Processing epoch 18\n",
      "Processing epoch 19\n",
      "Processing epoch 20\n",
      "Processing epoch 21\n",
      "Processing epoch 22\n",
      "Processing epoch 23\n",
      "Processing epoch 24\n",
      "Processing epoch 25\n",
      "Processing epoch 26\n",
      "Processing epoch 27\n",
      "Processing epoch 28\n",
      "Processing epoch 29\n",
      "Processing epoch 30\n",
      "Processing epoch 31\n",
      "Processing epoch 32\n",
      "Processing epoch 33\n",
      "Processing epoch 34\n",
      "Processing epoch 35\n",
      "Processing epoch 36\n",
      "Processing epoch 37\n",
      "Processing epoch 38\n",
      "Processing epoch 39\n",
      "Processing epoch 40\n",
      "Processing epoch 41\n",
      "Processing epoch 42\n",
      "Processing epoch 43\n",
      "Processing epoch 44\n",
      "Processing epoch 45\n",
      "Processing epoch 46\n",
      "Processing epoch 47\n",
      "Processing epoch 48\n",
      "Processing epoch 49\n"
     ]
    }
   ],
   "execution_count": 27
  },
  {
   "metadata": {},
   "cell_type": "markdown",
   "source": "",
   "id": "f3ededf8aa077da5"
  },
  {
   "metadata": {
    "ExecuteTime": {
     "end_time": "2024-10-29T10:43:16.436912Z",
     "start_time": "2024-10-29T10:43:16.389118Z"
    }
   },
   "cell_type": "code",
   "source": [
    "# Ottieni raccomandazioni per un utente specifico\n",
    "user_id = 1  # Sostituisci con l'ID di un utente nel tuo dataset\n",
    "item_ids = df['movieId'].unique()  # Prendi tutti gli item disponibili\n",
    "\n",
    "# Calcola le previsioni e ordina per raccomandare i migliori\n",
    "recommendations = []\n",
    "for item_id in item_ids:\n",
    "    pred = model.predict(user_id, item_id)\n",
    "    recommendations.append((item_id, pred.est))\n",
    "\n",
    "# Ordina gli item per rating stimato in ordine decrescente\n",
    "top_items = sorted(recommendations, key=lambda x: x[1], reverse=True)[:10]\n",
    "top_items\n"
   ],
   "id": "ebb67a8aca0a8a5e",
   "outputs": [
    {
     "data": {
      "text/plain": [
       "[(47, 5.0),\n",
       " (260, 5.0),\n",
       " (457, 5.0),\n",
       " (527, 5.0),\n",
       " (1136, 5.0),\n",
       " (1196, 5.0),\n",
       " (1210, 5.0),\n",
       " (1222, 5.0),\n",
       " (1291, 5.0),\n",
       " (1298, 5.0)]"
      ]
     },
     "execution_count": 28,
     "metadata": {},
     "output_type": "execute_result"
    }
   ],
   "execution_count": 28
  },
  {
   "metadata": {},
   "cell_type": "markdown",
   "source": "",
   "id": "730415f2eea5da89"
  },
  {
   "metadata": {
    "ExecuteTime": {
     "end_time": "2024-10-29T10:43:16.511260Z",
     "start_time": "2024-10-29T10:43:16.447329Z"
    }
   },
   "cell_type": "code",
   "source": [
    "# Salva il modello su file\n",
    "with open('models/svd_model.pkl', 'wb') as f:\n",
    "    pickle.dump(model, f)\n",
    "print(\"Modello salvato come 'svd_model.pkl'\")\n"
   ],
   "id": "e06b271ddb0b852f",
   "outputs": [
    {
     "name": "stdout",
     "output_type": "stream",
     "text": [
      "Modello salvato come 'svd_model.pkl'\n"
     ]
    }
   ],
   "execution_count": 29
  },
  {
   "metadata": {
    "ExecuteTime": {
     "end_time": "2024-10-29T10:43:16.739964Z",
     "start_time": "2024-10-29T10:43:16.526168Z"
    }
   },
   "cell_type": "code",
   "source": [
    "from surprise import accuracy\n",
    "\n",
    "#test prediction\n",
    "with open('models/svd_model.pkl', 'rb') as f:\n",
    "    model = pickle.load(f)\n",
    "    \n",
    "prediction = model.test(testset)\n",
    "\n",
    "rmse = accuracy.rmse(prediction)\n",
    "mae= accuracy.mae(prediction)\n",
    "print(f'RMSE: {rmse}')\n",
    "print(f'MAE: {mae}')\n"
   ],
   "id": "6a5f9a935153deac",
   "outputs": [
    {
     "name": "stdout",
     "output_type": "stream",
     "text": [
      "RMSE: 0.8956\n",
      "MAE:  0.6852\n",
      "RMSE: 0.8956303200028468\n",
      "MAE: 0.6851505601245302\n"
     ]
    }
   ],
   "execution_count": 30
  }
 ],
 "metadata": {
  "kernelspec": {
   "display_name": "Python 3",
   "language": "python",
   "name": "python3"
  },
  "language_info": {
   "codemirror_mode": {
    "name": "ipython",
    "version": 2
   },
   "file_extension": ".py",
   "mimetype": "text/x-python",
   "name": "python",
   "nbconvert_exporter": "python",
   "pygments_lexer": "ipython2",
   "version": "2.7.6"
  }
 },
 "nbformat": 4,
 "nbformat_minor": 5
}
